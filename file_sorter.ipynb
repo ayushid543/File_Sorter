{
 "cells": [
  {
   "cell_type": "markdown",
   "id": "0e8406bd",
   "metadata": {},
   "source": [
    "files sorter!"
   ]
  },
  {
   "cell_type": "code",
   "execution_count": 54,
   "id": "f9dcb397",
   "metadata": {},
   "outputs": [],
   "source": [
    "import os,shutil"
   ]
  },
  {
   "cell_type": "code",
   "execution_count": 55,
   "id": "a00cf2bd",
   "metadata": {},
   "outputs": [],
   "source": [
    "path = \"D:/Files Sorter/\""
   ]
  },
  {
   "cell_type": "code",
   "execution_count": 56,
   "id": "8d29e837",
   "metadata": {},
   "outputs": [],
   "source": [
    "file_names = os.listdir(path)"
   ]
  },
  {
   "cell_type": "code",
   "execution_count": 57,
   "id": "94075618",
   "metadata": {},
   "outputs": [],
   "source": [
    "folder_names = ['excel files', 'image files', 'text files']\n",
    "\n",
    "for i in range(0,3):\n",
    "    if not os.path.exists(path + folder_names[i]):\n",
    "        #print(path + folder_names[i])\n",
    "        os.makedirs(path + folder_names[i])\n",
    "for file in file_names:\n",
    "    if '.png' in file and not os.path.exists(path + 'image files/' + file):\n",
    "        shutil.move(path + file, path + 'image files/' + file)\n",
    "    elif '.xlsx' in file and not os.path.exists(path + 'excel files/' + file):\n",
    "        shutil.move(path + file, path + 'excel files/' + file)\n",
    "    elif '.txt' in file and not os.path.exists(path + 'text files/' + file):\n",
    "        shutil.move(path + file, path + 'text files/' + file)"
   ]
  },
  {
   "cell_type": "code",
   "execution_count": 52,
   "id": "232da349",
   "metadata": {},
   "outputs": [],
   "source": []
  },
  {
   "cell_type": "code",
   "execution_count": null,
   "id": "b84a1cb6",
   "metadata": {},
   "outputs": [],
   "source": []
  },
  {
   "cell_type": "code",
   "execution_count": null,
   "id": "4b0366c3",
   "metadata": {},
   "outputs": [],
   "source": []
  }
 ],
 "metadata": {
  "kernelspec": {
   "display_name": "Python 3 (ipykernel)",
   "language": "python",
   "name": "python3"
  },
  "language_info": {
   "codemirror_mode": {
    "name": "ipython",
    "version": 3
   },
   "file_extension": ".py",
   "mimetype": "text/x-python",
   "name": "python",
   "nbconvert_exporter": "python",
   "pygments_lexer": "ipython3",
   "version": "3.10.5"
  }
 },
 "nbformat": 4,
 "nbformat_minor": 5
}
